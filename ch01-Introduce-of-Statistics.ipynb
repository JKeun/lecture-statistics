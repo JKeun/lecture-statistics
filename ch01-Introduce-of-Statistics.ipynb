{
 "cells": [
  {
   "cell_type": "markdown",
   "metadata": {},
   "source": [
    "# Ch 1. 통계학의 기초 개념\n",
    "- 모집단과 표본\n",
    "- 모수와 통계량\n",
    "- 기술통계와 추론통계\n",
    "---"
   ]
  },
  {
   "cell_type": "markdown",
   "metadata": {},
   "source": [
    "## 기본용어"
   ]
  },
  {
   "cell_type": "markdown",
   "metadata": {},
   "source": [
    "### 모집단과 표본\n",
    "- 모집단 ( Populataion )\n",
    " - 분석가의 관심 대상이 되는 모든 개체의 집합\n",
    " - 분석하고자 하는 모집단이 규모가 작을 때에는 모든 개체를 조사 가능 ( 전수조사 )\n",
    " - 그러나 모집단의 규모가 클 경우, 다 조사하기 힘든 경우가 대부분\n",
    " - ex. 대한민국 고등학교 학생들의 키\n",
    "- 표본 ( Sample )\n",
    " - 조사 대상으로 채택된 일부 집합\n",
    " - 모집단의 규모가 큰 경우, 일부 표본을 뽑아 이를 분석하여 모집단의 특성을 파악 ( 추측 )\n",
    " - ex. 서울, 부산, 광주, 대구 ... 등 일부 고등학교 학생 5000명의 키"
   ]
  },
  {
   "cell_type": "markdown",
   "metadata": {},
   "source": [
    "![population](http://image.slidesharecdn.com/fsee1introduction-140909023924-phpapp01/95/foundations-in-statistics-for-ecology-and-evolution1-introductionpptx-8-638.jpg?cb=1410243313)"
   ]
  },
  {
   "cell_type": "markdown",
   "metadata": {},
   "source": [
    "### 모수와 통계랑\n",
    "- 모수 ( Parameter )\n",
    " - 모집단의 특성을 수치로 나타낸 것\n",
    " - 평균, 분산, 표준편차 : $\\mu, { \\sigma  }^{ 2 }, \\sigma$\n",
    "- 통계량 ( Statistic )\n",
    " - 표본의 특성을 수치로 나타낸 것\n",
    " - 평균, 분산, 표준편차 : $\\overset { \\_ \\_  }{ X } ,{ S }^{ 2 },S$\n",
    "- 모집단과 표본을 구분하기 위해 기호를 달리하여 사용하는 것"
   ]
  },
  {
   "cell_type": "markdown",
   "metadata": {},
   "source": [
    "### 기술통계와 추론통계\n",
    "- 기술통계학 ( Descriptive Statistics )\n",
    " - 자료를 정리하고 요약하는 등 자료특성의 계산과 관련된 통계학\n",
    " - ex. 우리반 평균 시험점수를 알기 위해 학생들 점수를 모아 평균을 구하는 것\n",
    "- 추론통계학 ( Inferential Statistics )\n",
    " - 모집단에서 뽑은 표본을 분석하여 이를 기초로 모집단의 특성을 추론하는 통계학\n",
    " - ex. 우리나라 고등학교 수능모의고사 평균을 알아보기 위해 몇만 명만 표본으로 뽑아 그들의 점수를 바탕으로 전체 평균을 추측하는 것"
   ]
  },
  {
   "cell_type": "markdown",
   "metadata": {},
   "source": [
    "![](http://databaser.net/moniwiki/pds/_ed_86_b5_ea_b3_84_ed_95_99_ec_9d_b4_eb_9e_80_eb_ac_b4_ec_97_87_ec_9d_b8_ea_b0_80/statistics.jpg)"
   ]
  },
  {
   "cell_type": "markdown",
   "metadata": {},
   "source": [
    "### 모수통계와 비모수통계\n",
    "- 모수통계 ( Parametric Statistics )\n",
    " - 모집단의 분포에 대해 가정하고 시작 ( 정규분포 )\n",
    " - 주로 연속적 자료\n",
    "- 비모수통계 ( Nonparametric Statistics )\n",
    " - 모집단에 대한 가정 없음\n",
    " - 주어진 데이터를 통해 확률(분포)를 계산함 ( Generative )\n",
    " - 주로 질적 자료"
   ]
  },
  {
   "cell_type": "markdown",
   "metadata": {},
   "source": [
    "---\n",
    "## 연습문제\n",
    "Q. 기술통계학과 추측통계학을 비교 설명하시오."
   ]
  }
 ],
 "metadata": {
  "kernelspec": {
   "display_name": "Python 3",
   "language": "python",
   "name": "python3"
  },
  "language_info": {
   "codemirror_mode": {
    "name": "ipython",
    "version": 3
   },
   "file_extension": ".py",
   "mimetype": "text/x-python",
   "name": "python",
   "nbconvert_exporter": "python",
   "pygments_lexer": "ipython3",
   "version": "3.5.1"
  }
 },
 "nbformat": 4,
 "nbformat_minor": 0
}
