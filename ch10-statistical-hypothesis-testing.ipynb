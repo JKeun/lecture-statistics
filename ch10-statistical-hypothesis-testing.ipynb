{
 "cells": [
  {
   "cell_type": "markdown",
   "metadata": {},
   "source": [
    "# Ch10. 가설검정 ( Statistical hypothesis testing )\n",
    "표본을 분석하여 모집단의 특성을 규명하는 통계적 추론(statistical inference)의 방법으로는 가설검정고 앞 장에서 설명한 추정(estimation)이 있다.<br />\n",
    "추정은 표본으로부터 계산한 통계량을 사용하여 모수의 특성을 규명하는 것으로서, 이미 9장에서 다루었다. 가설검정은 모집단에 대해 어떤 가설을 설정하고 그 모집단으로부터 추출된 표본을 분석함으로써 가설의 타당성 여부를 결정하는 것이다.\n",
    "- 가설검정의 개념\n",
    "- 가설검정의 기본용어\n",
    "- 가설검정의 오류\n",
    "- 가설검정의 순서\n",
    "---"
   ]
  },
  {
   "cell_type": "markdown",
   "metadata": {},
   "source": [
    "##  1. 가설검정의 개념\n",
    "- 통계적 가설검정\n",
    " - 표본에서 얻은 사실을 근거로 하여, 모집단에 대한 가설이 맞는지 틀리는지 통계적으로 검정하는 분석 방법\n",
    "  - **가설의 참 / 거짓을 결정짓는 것은 확신(가능성)의 차이**\n",
    "\n",
    "(인쇄물 참고)"
   ]
  },
  {
   "cell_type": "markdown",
   "metadata": {},
   "source": [
    "## 2. 가설검정의 기본용어"
   ]
  },
  {
   "cell_type": "markdown",
   "metadata": {},
   "source": [
    "### 귀무가설과 대립가설\n",
    "- 귀무가설 ( $H_{0}$ : null hypothesis )\n",
    " - 직접 검정대상이 되는 가설\n",
    "- 대립가설 ( $H_{a}$ or $H_{1}$ : alternative hypothesis )\n",
    " - 귀무가설이 기각될 때 받아들여지는 가설\n",
    "\n",
    "\n",
    "**예제) 다음 중 귀무가설로 바람직한 가설은 ? **\n",
    "> $H_{0}$ : 전국 모의고사 평균이 80점이다 $\\mu=80$<br />\n",
    "> $H_{0}$ : 전국 모의고사 평균이 80점이 아니다 $\\mu \\ne 80$<br />\n",
    "\n",
    "**tip)**\n",
    "> 실제로 검정할 수 없거나 검정하기에 곤란한 가설을 귀무가설로 설정하는 것은 바랍직하지 못하다<br />\n",
    "> 일반적으로 등식으로 표시된 가설을 귀무가설로 설정하는 것이 바람직하다"
   ]
  },
  {
   "cell_type": "markdown",
   "metadata": {},
   "source": [
    "### 유의수준과 임계값\n",
    "- 표본에서 계산된 통계량이 가설로 설정된 모집단의 성격과 현저한(significant) 차이가 있는 경우에는 모집단에 대해 설정한 귀무가설을 기각하게 된다\n",
    "- 이때 명확히 밝혀두어야 할 두가지가 있는데, 첫째는 현저하게 차이가 난다는 것이 무엇을 의미하는지, 둘째는 모집단에 대해 설정한 가설을 채택 또는 기각하는 임계값이 어떤 점이 되어야 하는지이다\n",
    "\n",
    "![](http://mblogthumb3.phinf.naver.net/20120326_42/fox4361_1332718489437on12y_JPEG/noname01.jpg?type=w2)\n",
    "\n",
    "- 유의수준 ( significance level )\n",
    " - 오류를 감수할 확률 ( 때문에 오류를 범했을 때 손실이 얼만만큼 발생하느냐가 큰 고려요인 )\n",
    " - 유의수준을 얼마로 할 것인가에 대해서는 연구의 성격, 연구자의 주관 등이 개입되게 되므로 어느 연구에나 적용될 수 있는 보편타당한 기준은 없다\n",
    " - 보통 연구에서는 $\\alpha$수준을 $0.01, 0.05, 0.10$ 등으로 정하는 경우가 많다\n",
    "- 임계값 ( critical value )\n",
    " - 주어진 유의수준에서 귀무가설의 채택과 기각에 관련된 의사결졍을 할 때, 그 기준이 되는 값\n",
    " - 이 임계값을 중심으로 귀무가설의 기각영역(rejection area)과 채택영역(acceptance area)이 결정된다"
   ]
  },
  {
   "cell_type": "markdown",
   "metadata": {},
   "source": [
    "### 양측검정과 단측검정\n",
    "<img src=\"https://saylordotorg.github.io/text_introductory-statistics/section_12/72f0cd42fda04cdfb0341bcfe11601c1.jpg\", width=800>\n",
    "\n",
    "- 양측검정 ( two-tailed test )\n",
    " - $H_{0}: \\mu = \\mu_{0}$\n",
    " - 표본 통계량이 $\\mu$ 보다 현저히 크거나 작으면 기각\n",
    " - 기각 영역은 확률분포의 양측에 있게 되므로, 유의수준 $\\alpha$도 양쪽 극단으로 갈려 한쪽의 면적이 $\\alpha / 2$가 된다\n",
    "- 단측검정\n",
    " - $H_{0}: \\mu \\ge \\mu_{0} \\quad or \\quad H_{0}: \\mu \\le \\mu_{0}$\n",
    " - $H_{0}: \\mu \\ge \\mu_{0}$의 경우, 표본 통계량이 $\\mu_{0}$보다 현저히 작으면 기각\n",
    " - 기각 영역은 확률분포의 한쪽 극단에만 존재"
   ]
  },
  {
   "cell_type": "markdown",
   "metadata": {},
   "source": [
    "### 가설검정의 오류\n",
    "- $\\alpha-오류$\n",
    " - 제1종오류 ( type I error )\n",
    " - 실제로는 귀무가설이 옳은데도 검정 결과 귀무가설을 기각하는 오류\n",
    "- $\\beta-오류$\n",
    " - 제2종오류 ( type II error )\n",
    " - 실제로는 귀무가설이 틀렸는데도 검정 결과 귀무가설이 옳은 것으로 받아들이는 오류\n",
    " \n",
    "<img src=\"http://images.grasshopper.com/type1type2error.fw_.png\", width=550>\n",
    "<img src=\"http://allpsych.com/wp-content/uploads/2014/08/type1and2error.gif\", width=450>"
   ]
  },
  {
   "cell_type": "markdown",
   "metadata": {},
   "source": [
    "**$\\alpha-오류$ 와 $\\beta-오류$ 의 관계**\n",
    "- $1-\\alpha$와 $1-\\beta$ 를 둘다 크게 할 수록 옳은 결정을 할 가능성이 높아지므로 BEST!!\n",
    "- BUT!!, 임계값(critical value)를 어떻게 설정하는가에 따라서 $\\alpha$와 $\\beta$는 Trade off 관계\n",
    "- 따라서, $1-\\alpha$와 $1-\\beta$를 동시에 크게 하는 것은 불가능"
   ]
  },
  {
   "cell_type": "markdown",
   "metadata": {},
   "source": [
    "**현실적으로**\n",
    "- 따라서 가설의 채택여부가 실제로 미치는 영향을 감안하여,\n",
    "- 더 중요하다고 판단되는 가설채택에 따른 오류의 확률을 미리 지정된 값 이하로 주는 검정방법을 찾는게 현실적"
   ]
  },
  {
   "cell_type": "markdown",
   "metadata": {},
   "source": [
    "**연구자의 관심대상이 되는 오류는 ?**\n",
    "- **$\\alpha-오류$**, 이 떄문에 **제1종오류**라 부르는 것\n",
    "- WHY??, 일반적으로 $\\alpha-오류$가 $\\beta-오류$에 비해 훨씬 더 심각한 손실이나 비용을 발생시키기 때문\n",
    " - **그러나 이 또한 case by case 이다. 상황에 따라 리스크는 다름 !! -> <font color=\"blue\">뒤에서 예제를 통해 설명**\n",
    "- 따라서 중요한 $\\alpha-오류$를 미리 1% 또는 5% 정도의 매우 작은 값으로 제한시킬 필요가 있는데, 이는 곧 앞에서 배운 유의수준과 동일한 개념"
   ]
  },
  {
   "cell_type": "markdown",
   "metadata": {},
   "source": [
    "**따라서 가장 현실적이면서 좋은 통계적 검정법이란 ?**\n",
    "- **주어진 유의수준($\\alpha$)을 만족하면서 제2종오류($\\beta$)의 가능성을 최소로 하는 것이다.**\n",
    " - 연구자의 입장에서 보면 귀무가설이 맞을 때 받아들이는 것은, 새로운 연구결과를 얻지 못하게 되는 것이므로(무의미한 것이므로)\n",
    " - 귀무가설이 거부되어야 할 때 거부되는 옳은 결정, 즉 $1-\\beta$가 커지도록 하는 것이 바람직\n",
    "- 통계학에서는 $1-\\beta$를 통계적 검정력 ( statistical power ) 이라 부른다"
   ]
  },
  {
   "cell_type": "markdown",
   "metadata": {},
   "source": [
    "- Type I and type II errors : https://en.wikipedia.org/wiki/Type_I_and_type_II_errors\n",
    "- 번역 : http://blog.naver.com/PostView.nhn?blogId=ezmeta&logNo=10128580705\n",
    "- confusion matrix : https://en.wikipedia.org/wiki/Confusion_matrix"
   ]
  },
  {
   "cell_type": "markdown",
   "metadata": {},
   "source": [
    "### 검정오류의 예제\n",
    "**들어가기 앞서 - 귀무가설( null hypothesis )을 선언하는 방법**<br />\n",
    "The test requires an unambiguous statement of a null hypothesis, which usually corresponds to a default \"state of nature\", for example \"this person is healthy\", \"this accused is not guilty\" or \"this product is not broken\".<br />\n",
    "( 검정에 있어서 귀무가설은 명백하여야 한다. 예를 들어 \"이 사람은 건강하다\", \"이 사람은 무죄다\", \"이 제품은 정상이다.(부서지지 않았다)\" 와 같이 자연적으로 0인 상태(default 상태) 로 선언해야 한다. )\n",
    "\n",
    "![](http://cfile4.uf.tistory.com/image/2749313F524A1BB411F5A2)\n"
   ]
  },
  {
   "cell_type": "markdown",
   "metadata": {},
   "source": [
    "**예제 ( 1 )**\n",
    "> $H_{0}$ : A라는 사람은 무죄다. <br />\n",
    "> $H_{1}$ : A라는 사람은 유죄다.\n",
    "\n",
    "|| 실제 $H_{0}$이 참인 경우 | 실제 $H_{0}$이 거짓인 경우  |\n",
    "|:---:|:---:|:---:|\n",
    "|$H_{0}$ 기각| $\\alpha$ <br /> <font color=\"red\"> A가 무죄인데 유죄라 잘못 판단<br /> ( high risk ) | $1-\\beta$ <br /> <font color=\"blue\">A가 유죄인데 유죄라고 옳게 판단<br /> ( 연구성과있음 ) |\n",
    "|$H_{0}$ 채택| $1-\\alpha$ <br /> A가 무죄인데 무죄라고 옳게 판단<br /> ( 연구성과없음 ) | $\\beta$ <br /> A가 유죄인데 무죄라 판단<br /> ( row risk ) |\n",
    "\n",
    "- 이 경우 $\\alpha-오류$로 인해 발생되는 위험이 critical 함\n",
    "- 따라서 유의수준 $\\alpha$ 를 0.01 정도로 하여(신뢰구간 99%) $\\alpha-오류$ 를 줄인다. ( 최대한 자비롭게 판결을 내린다. )\n",
    "- 이렇게 될 경우, $1-\\beta$ 는 자연스레 낮아지게 되어 진짜 범죄자를 잡을 확률 또한 낮아지게 된다."
   ]
  },
  {
   "cell_type": "markdown",
   "metadata": {},
   "source": [
    "**예제 ( 2 )**\n",
    "> $H_{0}$ : 이 비행기는 결함이 없다. <br />\n",
    "> $H_{1}$ : 이 비행기는 결함이 있다.\n",
    "\n",
    "|| 실제 $H_{0}$이 참인 경우 | 실제 $H_{0}$이 거짓인 경우  |\n",
    "|:---:|:---:|:---:|\n",
    "|$H_{0}$ 기각| $\\alpha$ <br /> 비행기에 결함이 없는데 있다고 잘못 판단<br /> ( row risk ) | $1-\\beta$ <br /> <font color=\"blue\"> 비행기에 결함이 있는데 있다고 옳게 판단<br /> ( 연구성과있음 ) |\n",
    "|$H_{0}$ 채택| $1-\\alpha$ <br /> 비행기에 결함이 없는데 없다고 옳게 판단<br /> ( 연구성과없음 ) | $\\beta$ <br /> <font color=\"red\"> 비행기에 결함이 있는데 없다고 판단 <br /> ( high risk ) |\n",
    "\n",
    "- 이 경우 $\\beta-오류$로 인해 발생되는 위험이 critical 함\n",
    "- 따라서 유의수준 $\\alpha$ 를 0.4 정도로 하여(신뢰구간 60%) $\\beta-오류$ 를 줄인다. ( 최대한 깐깐하게 결함 체크를 한다. )\n",
    "- 이렇게 될 경우, $1-\\beta$ 는 자연스레 높아지게 되어 진짜 결함이 있는 비행기를 찾을 확률 또한 높아지게 된다."
   ]
  }
 ],
 "metadata": {
  "kernelspec": {
   "display_name": "Python 3",
   "language": "python",
   "name": "python3"
  },
  "language_info": {
   "codemirror_mode": {
    "name": "ipython",
    "version": 3
   },
   "file_extension": ".py",
   "mimetype": "text/x-python",
   "name": "python",
   "nbconvert_exporter": "python",
   "pygments_lexer": "ipython3",
   "version": "3.5.1"
  }
 },
 "nbformat": 4,
 "nbformat_minor": 0
}
