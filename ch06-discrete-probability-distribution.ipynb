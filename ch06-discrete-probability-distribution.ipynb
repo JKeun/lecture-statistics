{
 "cells": [
  {
   "cell_type": "markdown",
   "metadata": {},
   "source": [
    "# Ch6. 이산확률분포\n",
    "- 이항분포\n",
    "- 다항분포\n",
    "---"
   ]
  },
  {
   "cell_type": "markdown",
   "metadata": {},
   "source": [
    "## 1. 이항분포 ( Binomial Distribution )"
   ]
  },
  {
   "cell_type": "markdown",
   "metadata": {},
   "source": [
    "### 베르누이시행 ( Bernoulli Trial )\n",
    "- 실험의 결과 또는 표본을 뽑는 결과가 상호배타적인 두 가지 사건만으로 나타나는 경우\n",
    " - ex. 동전을 한 번 던지는 실험 => { 앞 , 뒤 }\n",
    "- 베르누이시행의 조건\n",
    " 1. 각 시행의 결과는 상호배타적인 두 사건으로 구분된다. ( 성공 or 실패 )\n",
    " 1. 각 시행에서 성공의 결과가 나타날 확률은 $p = P(T)$로 나타내며, 실패가 나타날 확률은 $q = P(F) = 1 - p$ 로 나타낸다. 그러므로 각 시행에서 성공이 나타날 확률과 실패가 나타날 확률의 합은 $ p + q = 1$ 이 된다.\n",
    " 1. 각 시행은 서로 **독립적**이다. 한 시행의 결과는 다음 시행의 결과에 아무런 영향을 주지 않는다.\n",
    " \n",
    "### 베르누이분포 ( Bernoulli Distribution )\n",
    "<img src=\"https://wikimedia.org/api/rest_v1/media/math/render/svg/80d45357d81684dfbff51e5d56e3fc2363b25a16\">\n",
    "\n",
    "This can also be expressed as\n",
    "\n",
    "<img src=\"https://wikimedia.org/api/rest_v1/media/math/render/svg/a7523b2ddba75e02e1afe1ba4f5f9f7599305585\", >\n",
    " \n",
    "### 이항확률변수 ( Binomial Random Variable )\n",
    "- 베르누이시행을 여러번 반복한 결과, 성공의 횟수 또는 실패의 횟수를 이항확률변수라 하며 보통 $X$ 로 표시한다\n",
    "\n",
    "### 이항분포 ( Binomial (Probability) Distribution )\n",
    "- 이항확률변수의 분포는 특정한 확률분포를 갖게 되는데, 이를 이항분포라 한다\n",
    "- ex. 동전던지기를 세 번 한다고 할때, 앞면(H)이 나타나게 될 경우의 수를 이항확률변수로 하여, 이항분포를 구하라\n",
    "\n",
    "| 결과 | 첫째 시행 | 둘째 시행 | 셋째 시행 | 앞면의 수($X_{i}$) |\n",
    "|:---:|:---:|:---:|:---:|:---:|\n",
    "| 1 | H | H | H | 3 |\n",
    "| 2 | H | H | T | 2 |\n",
    "| 3 | H | T | H | 2 |\n",
    "| 4 | H | T | T | 1 |\n",
    "| 5 | T | H | H | 2 |\n",
    "| 6 | T | H | T | 1 |\n",
    "| 7 | T | T | H | 1 |\n",
    "| 8 | T | T | T | 0 |\n",
    "<center> < table. 가능한 결과 > </center>\n",
    "\n",
    "| 앞면의 수($X_{i}$) | P($X_{i}$) |\n",
    "|:---:|:---:|\n",
    "| 0 | 1/8 | \n",
    "| 1 | 3/8 | \n",
    "| 2 | 3/8 |\n",
    "| 3 | 1/8 |\n",
    "<center> < table. 이항확률분포 > </center>\n"
   ]
  },
  {
   "cell_type": "markdown",
   "metadata": {},
   "source": [
    "### 이항확률함수\n",
    "![](https://wikimedia.org/api/rest_v1/media/math/render/svg/5e2eeb2addbfe2133edf12309371940e97b5aa92)\n",
    "\n",
    "$$\n",
    "\\begin{align}\n",
    "k &: 성공횟수 \\\\\n",
    "n &: 시행횟수 \\\\\n",
    "p &: 성공확률 \\\\\n",
    "1-p=q &: 실패확률 \\\\\n",
    "{n}\\choose{k} &: ~_{n}C_{k}\n",
    "\\end{align}\n",
    "$$\n",
    "\n",
    "### 이항분포의 모양\n",
    " 1. p = 0.5 일 때, n 이 작더라도 확률분포는 대칭을 이룬다.\n",
    " 1. p = 0.5 가 아니더라도, n 이 커지면 확률분포는 대칭에 가까워진다.\n",
    "\n",
    "<br \\>\n",
    "<img src=\"http://www.boost.org/doc/libs/1_42_0/libs/math/doc/sf_and_dist/graphs/binomial_pdf_2.png\", width=400>\n",
    "<center> < figure. 서로 다른 성공확률(p) 에 따른 이항분포 > </center>\n",
    "\n",
    "\n",
    "<br \\>\n",
    "<img src=\"http://www.boost.org/doc/libs/1_56_0/libs/math/doc/graphs/negative_binomial_pdf_2.png\", width=400>\n",
    "<center> < figure. 서로 다른 시행횟수(n) 에 따른 이항분포 > </center> "
   ]
  },
  {
   "cell_type": "markdown",
   "metadata": {},
   "source": [
    "### 이항분포의 기댓값과 분산\n",
    "\n",
    "$$\n",
    "\\begin{align}\n",
    "기댓값 \\quad \\mu &= E(X) = np \\\\\n",
    "분산 \\quad \\sigma^{2} &= Var(X) = np(1-p) = npq \\\\\n",
    "표준편차 \\quad \\sigma &= \\sqrt{np(1-p)} = \\sqrt{npq} \\\\\n",
    "\\end{align}\n",
    "$$\n",
    "\n",
    "** Q. 연습문제 ** <br />\n",
    "1. 이항분포의 기댓값 공식을 증명하세요\n",
    "1. 이항분포의 분산 공식을 증명하세요 \n",
    "\n",
    "** Q. 연습문제 ** <br />\n",
    "- fair한 동전을 네 번 던져서 앞면이 세 번 이하로 나올 확률은 얼마인가?"
   ]
  },
  {
   "cell_type": "markdown",
   "metadata": {},
   "source": [
    "## 2. 다항분포 ( Multinomial Distribution )"
   ]
  },
  {
   "cell_type": "markdown",
   "metadata": {},
   "source": [
    "- 실험의 결과 또는 표본을 뽑는 결과가 상호배타적인 k 개의 사건으로 나타나는 경우\n",
    " - ex. 주사위를 던지는 실험 => { 1, 2, 3, 4, 5, 6 }\n",
    "\n",
    "### 다항확률함수\n",
    "![](https://wikimedia.org/api/rest_v1/media/math/render/svg/d336b7e76d754ddad44b14ef3a7bf9afb55a2154)\n",
    "\n",
    "$$\n",
    "\\begin{align}\n",
    "k &: 발생 가능한 결과 갯수 ( k = 2 이면 이항분포와 같다 ) \\\\\n",
    "n &: 전체 시행 횟수 \\\\\n",
    "x_{i} &: 각 결과별 발생 횟수 \\\\\n",
    "p_{i} &: 각 결과별 확률 \\\\\n",
    "\\end{align}\n",
    "$$"
   ]
  },
  {
   "cell_type": "markdown",
   "metadata": {},
   "source": [
    "<img src=\"http://www.whitetablegallery.org/src/share/default.jpg\">"
   ]
  },
  {
   "cell_type": "markdown",
   "metadata": {},
   "source": [
    "정답 : <br \\>\n",
    "https://ko.wikipedia.org/wiki/%EC%9D%B4%ED%95%AD_%EB%B6%84%ED%8F%AC"
   ]
  },
  {
   "cell_type": "markdown",
   "metadata": {},
   "source": [
    "정답 : <br />\n",
    "\n",
    "$$\n",
    "\\begin{align}\n",
    "P(X \\le 3) &= P(X=0) + P(X=1) + P(X=2) + P(X=3) \\\\\n",
    "&= (0.5)^{4} + 4 \\dot (0.5)^{4} + 6 \\cdot (0.5)^{4} + 4 \\cdot (0.5)^{4} \\\\\n",
    "&= 0.9375\n",
    "\\end{align}\n",
    "$$"
   ]
  }
 ],
 "metadata": {
  "kernelspec": {
   "display_name": "Python 3",
   "language": "python",
   "name": "python3"
  },
  "language_info": {
   "codemirror_mode": {
    "name": "ipython",
    "version": 3
   },
   "file_extension": ".py",
   "mimetype": "text/x-python",
   "name": "python",
   "nbconvert_exporter": "python",
   "pygments_lexer": "ipython3",
   "version": "3.5.1"
  }
 },
 "nbformat": 4,
 "nbformat_minor": 0
}
