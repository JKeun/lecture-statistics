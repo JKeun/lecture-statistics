{
 "cells": [
  {
   "cell_type": "markdown",
   "metadata": {},
   "source": [
    "# Ch4. 확률이론\n",
    "- 확률의 정의\n",
    "- 집합이론과 확률의 개념\n",
    "- 확률법칙\n",
    "- 베이즈정리\n",
    "---"
   ]
  },
  {
   "cell_type": "markdown",
   "metadata": {},
   "source": [
    "## 1. 확률의 정의\n",
    "- 일반적으로 확률( probability )이란 어떤 상황이 발생할 가능성이라 정의한다\n",
    "- 확률이론에서는 앞으로 일어날 상황을 사건 ( event ) 라 하므로, 확률은 어떤 사건이 일어날 가능성이다.\n",
    "- 그러나 확률을 단순히 가능성으로 정의하는 것은 확률이 어떻게 측정되는지를 제시하지 못하기 때문에 학문적인 정의로는 미흡\n",
    "- 과학적으로 확률을 정의하기 위해 상대빈도정의와 동등발생정의 두 방법을 사용"
   ]
  },
  {
   "cell_type": "markdown",
   "metadata": {},
   "source": [
    "### 상대빈도정의 ( relative frequency definition )\n",
    "- 어떤 사건이 나타날 확률은 실험을 무한대에 가깝게 계속적으로 시행했을 때,\n",
    "- 전체 시행횟수에서 그 사건이 나타나는 빈도수를 상대적으로 나타낸 것\n",
    " - ex. 동전의 앞면이 나올 확률이 1/2이라는 것은 동전을 수없이 많이 던졌을 때 전체 시행횟수 중에서 앞면이 나타나는 빈도수가 전체 시행횟수의 1/2에 접근한다는 의미이다.\n",
    " \n",
    "### 동등발생정의 ( equally likely definition , bayesian definition )\n",
    "- 상대빈도정의에 의해 확률을 정의하면 실험을 무한에 가깝게 시행해야하는 문제 발생 (현실성 문제)\n",
    "- 어떤 실험이나 관찰의 결과로 나타날 수 있는 모든 경우들이 각각 동일한 가능성을 가지고 발생할 것이라는 가정하에, 특정사건이 일어날 확률을 정의한 것\n",
    " - ex. 동전의 앞면과 뒷면이 나올 확률은 동일할 것이라는 논리적 추런에 근거를 둬 앞면이 나올 확률이 1/2 이다.\n",
    "- 동등발생정의에 입각한 확률은 전체의 경우 중에서 특정 사건이 차지하는 구성비율( proportion )을 의미 ( 확률 = 구성비율 )"
   ]
  },
  {
   "cell_type": "markdown",
   "metadata": {},
   "source": [
    "## 2. 집합이론과 확률의 개념\n"
   ]
  },
  {
   "cell_type": "markdown",
   "metadata": {
    "collapsed": true
   },
   "source": [
    "### 집합이론\n",
    "- 확률이론을 쉽게 설명하기 위해서는 집합이론의 용어와 부호 사용하는 것이 편리\n",
    "- 집합 ( set ) 이란 개체 또는 원소 ( element )의 모임이라 정의\n",
    "- 원소는 { ... } 속에 넣는 것이 관례\n",
    " - ex. A = { 남자, 여자 }, B = { 10대, 20대, 30대, ... }\n",
    "\n",
    "**1. 여집합**\n",
    "-  $A^C$ = { 전체집합 중에서 집합 A 에 포함되지 않는 원소들 }\n",
    "<img src=\"https://upload.wikimedia.org/wikipedia/commons/thumb/b/b9/SetComplement.svg/400px-SetComplement.svg.png\", width=200, height=200>\n",
    "\n",
    "**2. 합집합**\n",
    "-  $A \\cup B$ = { 집합 A 또는 집합 B에 속하는 원소  }\n",
    "<img src=\"https://upload.wikimedia.org/wikipedia/commons/thumb/3/32/SetUnion.svg/500px-SetUnion.svg.png\", width=200, height=200>\n",
    "\n",
    "**3. 교집합**\n",
    "-  $A \\cap B$ = { 집합 A와 B의 공통 원소  }\n",
    "<img src=\"https://upload.wikimedia.org/wikipedia/commons/thumb/c/cb/SetIntersection.svg/500px-SetIntersection.svg.png\", width=200, height=200>\n",
    "\n",
    "**합집합의 계산**\n",
    "- $ A \\cup B = A + B - A \\cap B $\n",
    " - if) 집합 $A$와 $B$가 서로 배타적( mutually exclusive )일 때 ( $A \\cap B = \\emptyset$ )\n",
    " - $ A \\cup B = A + B $\n",
    "\n",
    "### 집합이론과 확률이론\n",
    "- 집합 ( set ) = 실험이나 관찰에서 얻은 결과, 사건 ( event )\n",
    "- 원소 ( element ) = 단일 사건 ( simple event )\n",
    "- 전체집합 ( universal set ) = 모든 사건의 모임, 표본공간 ( sample space )"
   ]
  },
  {
   "cell_type": "markdown",
   "metadata": {},
   "source": [
    "## 3. 확률법칙"
   ]
  },
  {
   "cell_type": "markdown",
   "metadata": {},
   "source": [
    "### 덧셈법칙\n",
    "- 집합이론에서 합집합의 개념\n",
    "- $ P(A \\cup B) = P(A) + P(B) - P(A \\cap B) $\n",
    " - if) A사건과 B사건이 서로 배타적일 때 ( 서로 독립일 때 )\n",
    " - $ P(A \\cup B) = P(A) + P(B) $\n",
    " \n",
    "### 조건부확률\n",
    "- 사건 B가 발생했다는 조건하에서 사건 A가 발생할 확률\n",
    "<img src=\"https://wikimedia.org/api/rest_v1/media/math/render/svg/c7f0ff7bcd50dd11514f9f02b1273dab360a4cef\", width=150, height=150>\n",
    "\n",
    "- ex. 전체학생 10,000명 중에서 여학생이 3,500명이다. 2,000명이 4학년이며, 이 중 여학생은 800명이다. 이 때 여학생 중에서 4학년인 학생의 구성은 어떻게 되는가? 반대로 4학년 중에서 여학생의 구성은 어떻게 되는가?\n",
    "- *조건부확률은 표본공간이 전체사건이 되는 것이 아니라, 새로운 조건이 부여되어 관심대상이 **새로운 표본공간**이 되는 경우에 쓰이는 개념이다.*\n",
    "\n",
    "### 곱셈법칙\n",
    "- 집합이론에서 교집합의 개념\n",
    "- $ P(A \\cap B) = P(B) \\bullet P(A|B) = P(A) \\bullet P(B|A) $\n",
    " - 사건 A와 B가 동시에 일어날 확률은 \n",
    " - 사건 A가 일어날 확률과 사건 A가 일어난 다음 사건 B가 일어날 확률을 곱한 것이란 의미"
   ]
  },
  {
   "cell_type": "markdown",
   "metadata": {},
   "source": [
    "### 독립사건과 종속사건\n",
    "**1. 독립사건 ( independent event )**\n",
    "- 동전던지기와 같이 이전 사건이 다음 사건이 일어날 확률에 아무 영향을 주지 않는 경우\n",
    "- 복원추출 (표본공간 변화 없음)\n",
    "- 정의\n",
    "<img src=\"https://wikimedia.org/api/rest_v1/media/math/render/svg/c3fee81720676c2887e6304414377aecb51e5579\", width=150, height=150>\n",
    "- 증명 <br />\n",
    "(사건 A가 사건 B에 아무런 영향을 미치지 않으므로( 독립이므로 ), 사건 A가 일어난 다음 B가 일어날 확률인 조건부확률은 그냥 사건 B가 일어날 확률과 같다)\n",
    "<img src=\"https://wikimedia.org/api/rest_v1/media/math/render/svg/329a9d99c953f0927c388d880745365adf64a0a9\", width=300, height=150>\n",
    "\n",
    "**2. 종속사건 ( dependent event )**\n",
    "- 조건부확률처럼 한 사건의 발생이 다음에 발생할 사건에 영향을 주는 경우\n",
    "- 비복원추출 (표본공간 변함)"
   ]
  },
  {
   "cell_type": "markdown",
   "metadata": {},
   "source": [
    "## 4. 베이즈정리 ( Bayes' theorem )\n",
    "- 사전에 알고 있는 정보에 기준을 두고, 어떤 사건이 일어나게 될 확률을 계산하는 이론\n",
    "<img src=\"https://wikimedia.org/api/rest_v1/media/math/render/svg/2b35567a9a29e146c9426f9b258892d1df6bb789\", width=200, height=200>\n",
    "\n",
    "- Extended form\n",
    "<img src=\"https://wikimedia.org/api/rest_v1/media/math/render/svg/935f9eb7f8d17e5c166ef2e8bd6a94366b32fa7c\", width=200, height=200>\n",
    "\n",
    "<img src=\"https://wikimedia.org/api/rest_v1/media/math/render/svg/2b8c21165bcf1ad1d21d7047686d227c649aae16\", width=250, height=250>"
   ]
  },
  {
   "cell_type": "markdown",
   "metadata": {},
   "source": [
    "### 연습문제\n",
    "- 비가 많이 올 확률 $P(A) = 0.4$, 비가 중간 정도 올 확률 $P(B) = 0.3$, 비가 아주 적게 올 확률 $P(C) = 0.3$ 이고, \n",
    "- 비가 많이 올 때 풍년이 될 확률 $P(K|A) = 0.6$, 흉년이 될 확률 $P(K^C|A) = 0.4$, \n",
    "- 비가 중간 정도 올 떄 풍년이 될 확률 $P(K|B) = 0.5$, 흉년이 될 확률 $P(K^C|B) = 0.5$, \n",
    "- 비가 아주 적게 왔을 때 풍년이 될 확률 $P(K|C) = 0.2$, 흉년이 될 확률 $P(K^C|C) = 0.8$ 이라 한다. \n",
    "- 그렇다면 풍년이 됐는데 비가 아주 적게 왔을 가능성은 얼마인가?"
   ]
  },
  {
   "cell_type": "markdown",
   "metadata": {},
   "source": [
    "$$ \n",
    "P(C|K)=\\frac { P(K\\cap C) }{ P(K) } \\\\\n",
    "= \\frac { P(K\\cap C) }{ P(K\\cap A)+P(K\\cap B)+P(K\\cap C) } \\\\ \n",
    "= \\frac { P(K|C)P(C) }{ P(K|A)P(A)+P(K|B)P(B)+P(K|C)P(C) } \\\\ \n",
    "= \\frac { 0.2\\cdot 0.3 }{ 0.6\\cdot 0.4+0.5\\cdot 0.3+0.2\\cdot 0.3 } \\\\ \n",
    "= \\frac {0.06}{0.45} = 0.133 \n",
    "$$"
   ]
  }
 ],
 "metadata": {
  "kernelspec": {
   "display_name": "Python 3",
   "language": "python",
   "name": "python3"
  },
  "language_info": {
   "codemirror_mode": {
    "name": "ipython",
    "version": 3
   },
   "file_extension": ".py",
   "mimetype": "text/x-python",
   "name": "python",
   "nbconvert_exporter": "python",
   "pygments_lexer": "ipython3",
   "version": "3.5.1"
  }
 },
 "nbformat": 4,
 "nbformat_minor": 0
}
