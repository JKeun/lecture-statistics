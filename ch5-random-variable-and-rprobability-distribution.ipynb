{
 "cells": [
  {
   "cell_type": "markdown",
   "metadata": {},
   "source": [
    "# Ch5. 확률분포의 개념\n",
    "- 확률변수와 확률분포\n",
    "- 이산확률변수와 연속확률변수\n",
    "- 확률함수와 확률밀도함수\n",
    "- 확률분포의 기댓값과 분산\n",
    "- 두 확률변수의 결합분포\n",
    "---"
   ]
  },
  {
   "cell_type": "markdown",
   "metadata": {},
   "source": [
    "## 1. 확률변수와 확률분포"
   ]
  },
  {
   "cell_type": "markdown",
   "metadata": {},
   "source": [
    "### 확률변수의 개념 ( Random Variable )\n",
    "- 동전 한 개를 던질 때, 모든 가능한 사건의 집합 = 표본공간 ( Sample Space ) 은?\n",
    " - S = { 앞면 , 뒷면 }\n",
    "- 그러나 실제 통계학적 방법 및 분석과정에 들어서면, 어떠한 수치를 부여할 필요가 있다\n",
    " - S = { 1 , 0 } : 앞면에는 1, 뒷면에는 0을 부여\n",
    " - S = { 1,000 , -500 } : 앞면이 나오면 1,000원을 받고, 뒷면이 나오면 500원을 잃는 게임을 할 경우 가능한 사건의 집합 ( S )\n",
    "- **즉, 확률변수란 일정한 확률을 가지고 발생하는 사건에 수치를 부여한 것을 말하며, 보통 X 로 표시한다**\n",
    " - 동전 던지는 실험에서는 앞면이 나타나는 횟수가 확률변수\n",
    " - 동전게임에서는 게임결과로 받는 보상금이 확률변수가 된다\n",
    "\n",
    "**Q. 연습문제<br />\n",
    "동전 던지는 실험에서 앞면(H)이 나올 경우를 1이라 할 때(fair coin), 다음 중 올바른 확률 표기법은?**\n",
    "1. $ P(\\emptyset) = 0 $\n",
    "1. $ P(1) = 1/2 $\n",
    "1. $ P(H) = 1/2 $\n",
    "1. $ P(\\{1\\}) = 1/2 $\n",
    "1. $ P(\\{H\\}) = 1/2 $\n",
    "1. $ P(X=1) = 1/2 $\n",
    "1. $ P(X=H)= 1/2 $\n",
    "\n",
    "### 확률분포 ( Probability Distributioin )\n",
    "- 동전을 두 번 던질 때, 모든 가능한 사건들과 각 사건이 나타날 확률에 대해서 다음과 같이 정의 가능하다\n",
    "- 표본공간(Sample Space), S = {HH, HT, TH, TT}\n",
    "\n",
    "| 사건 | 앞면의 수 | 각 사건의 확률 |\n",
    "|:---:|:---:|:---:|\n",
    "|{ H , H }| 2 | 1/4 | \n",
    "|{ H , T }| 1 | 1/4 | \n",
    "|{ T , H }| 1 | 1/4 | \n",
    "|{ T , T }| 0 | 1/4 | \n",
    "\n",
    "\n",
    "- 만약 앞면이 나올 횟수를 확률변수(X)로 하고자 한다면, 다음과 같이 확률분포를 정의 가능하다\n",
    "- 표본공간 S = {2, 1, 0}\n",
    "\n",
    "\n",
    "| 확률변수($X_{i}$) | P($X_{i}$) |\n",
    "|:---:|:---:|\n",
    "| 0 | 1/4 | \n",
    "| 1 | 1/2 | \n",
    "| 2 | 1/4 | \n",
    "\n",
    "- **즉, 확률분포란 어떤 확률변수가 취할 수 있는 모든 값들과 이 값들이 나타날 확률을 표시한 것이다.**"
   ]
  },
  {
   "cell_type": "markdown",
   "metadata": {},
   "source": [
    "## 2. 이산확률변수와 연속확률변수"
   ]
  },
  {
   "cell_type": "markdown",
   "metadata": {},
   "source": [
    "### 이산확률변수 ( Discrete Random Variable )\n",
    "- 확률변수가 취할 수 있는 값의 수가 유한하거나 셀 수 있는(Countalbe) 확률변수를 의미\n",
    " - ex. 동전을 1,000개 던질 때 앞면의 갯수\n",
    "- 이산확률분포 ( Discrete Probability Distribution )\n",
    " - 베르누이분포\n",
    " - 이항분포\n",
    " \n",
    "### 연속확률변수 ( Continuous Random Variable )\n",
    "- 확률변수가 취할 수 있는 값이 일정한 구간 내의 실수로서 그 수가 무한한 확률변수를 의미\n",
    " - ex. 체중, 온도, 키 등 ( 어떤 유한한 구간에 있더라도 그 수가 무한히 많아짐 )\n",
    "- 연속확률분포 ( Continuous Probability Distribution )\n",
    " - 정규분포\n",
    " - t 분포\n",
    " - F 분포\n",
    " - $\\chi^{2}$분포"
   ]
  },
  {
   "cell_type": "markdown",
   "metadata": {},
   "source": [
    "## 3. 확률질량함수와 확률밀도함수"
   ]
  },
  {
   "cell_type": "markdown",
   "metadata": {},
   "source": [
    "### 확률질량함수 ( pmf : Probability Mass Function )\n",
    "<img src=\"https://upload.wikimedia.org/wikipedia/commons/thumb/8/85/Discrete_probability_distrib.svg/440px-Discrete_probability_distrib.svg.png\", width=250>\n",
    "- **확률질량함수란 이산확률변수가 취할 수 있는 모든 값에 대해 확률이 얼마인지를 알려주는 함수이다**\n",
    "- 표기법 : $P(X_{i})$\n",
    "- ex. 동전던지기에 대한 확률함수로 정의하면, \n",
    " - $ P(X_{i}) = 1/2$ ,&nbsp;&nbsp;&nbsp; $ X_{i} = \\{ H , T \\} $\n",
    "<br \\><br \\>\n",
    "- **pmf 는 아래 두 조건을 만족해야 한다.**\n",
    " 1. 특정한 값 $X_{i}$ 가 발생할 확률은 $ 0 \\le P(X_{i}) \\le 1$ 이다\n",
    " 2. $ \\Sigma P(X_{i}) = 1$\n",
    " \n",
    "### 확률밀도함수 ( pdf : Probability Density Function )\n",
    "<img src=\"http://work.thaslwanter.at/Stats/html/_images/PDF.png\", width=250>\n",
    "- 연속확률변수가 일정한 범위 내에서 취할 수 있는 값은 무한히 많다\n",
    "- 그러므로 어떤 한 값에만 국한된 확률은 말할 수 없다\n",
    "- 그 대신 어떤 구간(interval)에 대한 확률은 계산할 수 있다\n",
    " - ex. 기온이 a℃ ~ b℃ 이 확률이 30%라고 한다면, $P(a \\le X \\le b) = 0.3$\n",
    "- **이처럼 연속확률분포의 양상을 나타내는 곡선을 식으로 표현한 것을 확률밀도함수(pdf) 라고 한다**\n",
    "<br \\><br \\>\n",
    "- **pdf 의 특징**\n",
    " 1. 연속확률분포에서 어느 한 특정값 $X_{i}$ 가 발생할 확률 $P(X_{i})=0$ 이다\n",
    " 1. 연속확률분포에서의 확률은 어떤 특정한 두 값, 즉 일정구간 사이의 값을 취할 확률로 계산된다. 즉, $P(a \\le X \\le b)$ 는 구간 [a, b] 사이의 확률밀도함수 $f(X)$와 X 축 사이의 면적이다.\n",
    " 1. 확률밀도함수는 언제나 비음의 값을 갖는다. 즉, $f(X) \\ge 0$ 이다.\n",
    " 1. 확률밀도함수 아래에 있는 전체의 면적은 언제나 1 이다. 즉, $P(-\\infty \\le X \\le \\infty) = 1$ 이다.\n",
    "\n",
    "### 연속확률분포와 이산확률분포의 비교\n",
    "<img src=\"http://4.bp.blogspot.com/-vrO5l2mDP5o/VV8vNUEKvjI/AAAAAAAAAFM/XZRbbMiKJl4/s1600/Discrete%2BPDF%2B.png\", width=500>\n",
    "- 연속확률분포 : 특정 구간의 pdf 아래의 넓이가 확률\n",
    "- 이산확률분포 : y 축의 높이가 확률"
   ]
  },
  {
   "cell_type": "markdown",
   "metadata": {},
   "source": [
    "## 4. 확률분포의 기댓값과 분산"
   ]
  },
  {
   "cell_type": "markdown",
   "metadata": {},
   "source": [
    "### 기댓값 ( Expected Value )\n",
    "- 확률분포의 평균값 ( average, weigthed average )\n",
    "- 표기법 : $E(X)$ or $\\mu_{X}$\n",
    "- 기댓값의 계산\n",
    "$$ E(X) = \\Sigma X_{i} \\cdot P(X_{i}) $$\n",
    "\n",
    "- ** 기댓값의 특성 **\n",
    " 1. 확률변수 X 에 일정한 상수 $a$ 를 곱한 확률변수의 기댓값은 확률변수 X 의 기댓값에 $a$ 를 곱한 것과 같다.\n",
    "   - $ E(aX) = a \\cdot E(X) $\n",
    " 1. 확률변수 X 에 일정한 상수 $b$ 만큼을 가감한 확률변수의 기댓값은 확률변수 X 의 기댓값에 $b$ 를 가감한 것과 같다.\n",
    "   - $ E(X + b) = E(X) + b $ &nbsp; or &nbsp; $ E(X - b) = E(X) - b$\n",
    " 1. 위의 두 가지 결과를 결합하면 다음 식이 성립된다.\n",
    "   - $ E(aX \\pm b) = a \\cdot E(X) \\pm b$\n",
    "\n",
    "**Q. 연습문제<br />\n",
    "동전을 던져 앞면이 나오면 400원을 받고, 뒷면이 나오면 800원을 받는 게임이 있다고 하자. 이 게임의 기댓값은 600원이 된다. 상금을 2배로 올린 후에 일률적으로 200원씩 더 올린다면 그때의 기댓값은 얼마인가?**\n",
    "\n",
    "### 분산 ( Variance )\n",
    "- 확률분포의 분산\n",
    "- 표기법 : $ Var(X)$ or $\\sigma^{2}_{X}$\n",
    "- 분산의 계산\n",
    "$$ \\begin{align} \n",
    "Var(X) & = \\Sigma[X_{i} - E(X)]^{2} \\cdot P(X_{i}) \\\\ \n",
    "& = E[\\{X - E(X)\\}^{2}] \\\\ \n",
    "& = E(X^{2}) - [E(X)]^{2} \n",
    "\\end{align}$$\n",
    "\n",
    "### 표준편차 ( Standard Deviation )\n",
    "- 확률분포의 표준편차\n",
    "- 표기법 : $ \\sigma $\n",
    "- 표준편차의 계산 <br \\>\n",
    "$$ \\sigma_{X}  = \\sqrt { \\Sigma[X_{i} - E(X)]^{2} \\cdot P(X_{i}) } $$\n",
    "\n",
    "- ** 분산과 표준편차의 특성 **\n",
    " 1. 어떤 확률변수에 일정한 상수를 더한 확률변수의 분산은 본래의 확률변수의 분산과 같다. 확률변수에 상수를 더하는 것은 분포의 분산도에는 아무런 영향을 미치지 못하기 때문이다.\n",
    "   - $ Var(X + b) = Var(X) \\\\\n",
    "   \\sigma(X + b) = \\sigma(X)$\n",
    " 2. 어떤 확률변수에 일정한 상수 $a$ 를 곱한 확률변수의 분산은 본래의 확률변수의 분산에 $a^{2}$ 를 곱하 것과 같다.\n",
    "   - $ Var(aX) = a^{2}Var(X) \\\\\n",
    "   \\sigma(aX) = a \\cdot \\sigma(X)$\n",
    " 3. 위의 두 식을 종합하면 다음과 같은 식이 성립된다.\n",
    "   - $ Var(aX + b) = a^{2} Var(X) \\\\\n",
    "   \\sigma(aX + b) = a \\cdot \\sigma(X)$\n",
    " \n",
    "**Q. 연습문제<br />\n",
    "어느 투자대상의 미래수익성(X)에 대하여 조사하였더니 E(X) = 500만원이었으며, Var(X) = 400이었다. 이 투자대상에 비해 수익이 두 배가 되는 투자대상이 있다면, 기대수익과 표준편차는 얼마인가?**\n",
    " "
   ]
  },
  {
   "cell_type": "markdown",
   "metadata": {},
   "source": [
    "## 5. 두 확률변수의 결합분포"
   ]
  },
  {
   "cell_type": "markdown",
   "metadata": {},
   "source": [
    "### 결합확률분포 ( Joint Probability Distribution )\n",
    "- 두 개 이상의 확률변수가 관련된 확률분포\n",
    "\n",
    "### 주변확률분포 ( Marginal Probability Distribution )\n",
    "- X와 Y의 결합분포에서 X 또는 Y의 어느 하나만의 확률분포를 말하며, 결합확률분포의 주변(marginal)에 표시되기 때문에 이를 주변확률분포라 한다\n",
    "\n",
    "<img src=\"http://image.slidesharecdn.com/42jointmarginalconditionalprobmath4lt-150316083455-conversion-gate01/95/lecture-joint-conditional-and-marginal-probabilities-16-638.jpg?cb=1427173931\", width=600>\n",
    "\n",
    "**Q. 연습문제**<br />\n",
    "1. $P(X=no rain, Y=some wind) 확률을 구하라 $\n",
    "1. $P(Y=strong wind) 확률을 구하라 $\n",
    "1. $E(X) 를 구하라 $ (no rain = 1, light rain = 3, heavy rain = 5 이라 할 때)\n",
    "\n",
    "### 공분산 ( Covariance )\n",
    "- 두 확률변수의 분포가 결합될 때 그 결합확률 분포의 분산을 측정하는 것\n",
    "- 공분산은 2개의 확률변수의 상관정도를 나타내는 값이다. (1개 변수의 이산정도를 나타내는 분산과는 별개임)\n",
    "- X 변수 값이 상승할 떄, Y 변수 값도 상승하면 공분산 값은 양수, 하락하면 공분산 값은 음수\n",
    "- 공분산의 계산\n",
    "$$\n",
    "\\begin{align}\n",
    "Cov(X, Y) & = E[(X-E(X))(Y-E(Y))] \\\\\n",
    "& = E(XY) - E(X) \\cdot E(Y)\n",
    "\\end{align}\n",
    "$$\n",
    "\n",
    "**Q. 연습문제<br />\n",
    "기댓값의 특성을 이용하여 위의 식을 증명하세요. **"
   ]
  },
  {
   "cell_type": "code",
   "execution_count": null,
   "metadata": {
    "collapsed": true
   },
   "outputs": [],
   "source": []
  },
  {
   "cell_type": "markdown",
   "metadata": {},
   "source": [
    "정답 : <br \\>\n",
    "$$ 1, 5, 6 ( 확률은 표본이 아닌, 사건에 정의되는 수치이다. ) $$ "
   ]
  },
  {
   "cell_type": "markdown",
   "metadata": {},
   "source": [
    "정답 :<br \\>\n",
    "$$ \\begin{align}\n",
    "E(X) & = 600 (원) \\\\\n",
    "E(2X + 200) & = E(2X) + 200 = 2 \\cdot E(X) + 200 \\\\\n",
    "& = 2 \\times 600 + 200 = 1,400 (원)\n",
    "\\end{align}$$"
   ]
  },
  {
   "cell_type": "markdown",
   "metadata": {},
   "source": [
    "정답 :<br \\>\n",
    "$$ \\begin{align}\n",
    "E(2X) & = 2 \\times 500 = 1,000 (만원) \\\\\n",
    "Var(2X) & = 2^{2}Var(X) = 4 \\times 400 = 1,600 \\\\\n",
    "\\sigma(2X) & = 2 \\cdot \\sqrt{400} = 40 (만원) \n",
    "\\end{align}$$"
   ]
  },
  {
   "cell_type": "markdown",
   "metadata": {},
   "source": [
    "정답 :<br \\>\n",
    "$$ \\begin{align}\n",
    "1)\\quad & = 0.2 \\\\\n",
    "2)\\quad & = 0.05 + 0.15 + 0.1 = 0.3\\\\\n",
    "3)\\quad & = no rain \\times 0.36 + light rain \\times 0.34 + heavy rain \\times 0.3 \\\\\n",
    "\\quad & = 1 \\times 0.36 + 3 \\times 0.34 + 5 \\times 0.3  \\\\\n",
    "\\quad & = 2.88 ( almost light rain )\n",
    "\\end{align}$$"
   ]
  },
  {
   "cell_type": "markdown",
   "metadata": {},
   "source": [
    "정답 :<br \\>\n",
    "<img src=\"https://wikimedia.org/api/rest_v1/media/math/render/svg/7331bb9b6e36128d1d9cb735b11b65427929105d\", width=400>"
   ]
  }
 ],
 "metadata": {
  "kernelspec": {
   "display_name": "Python 3",
   "language": "python",
   "name": "python3"
  },
  "language_info": {
   "codemirror_mode": {
    "name": "ipython",
    "version": 3
   },
   "file_extension": ".py",
   "mimetype": "text/x-python",
   "name": "python",
   "nbconvert_exporter": "python",
   "pygments_lexer": "ipython3",
   "version": "3.5.1"
  }
 },
 "nbformat": 4,
 "nbformat_minor": 0
}
