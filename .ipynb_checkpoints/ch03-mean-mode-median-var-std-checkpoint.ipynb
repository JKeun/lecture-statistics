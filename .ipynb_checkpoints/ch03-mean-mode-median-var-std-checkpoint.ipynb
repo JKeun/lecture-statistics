{
 "cells": [
  {
   "cell_type": "markdown",
   "metadata": {},
   "source": [
    "# Ch3. 분포의 특성\n",
    "- 최빈값\n",
    "- 중앙값\n",
    "- 평균\n",
    "- 분산\n",
    "- 표준편차\n",
    "- 왜도\n",
    "---"
   ]
  },
  {
   "cell_type": "markdown",
   "metadata": {},
   "source": [
    "## 최빈값 ( mode )\n",
    ": 최빈값은 빈도수가 가장 많이 발생한 괄찰값을 말함\n",
    "- ex) 1, 3, 6, 6, 6, 7, 7, 12, 12, 19 있을때, 최빈값은 6이다.\n",
    "\n",
    "## 중앙값 ( median )\n",
    ": 중앙값은 수치로 된 자료를 크기순서대로 나열할 때, 가장 가운데에 위치하는 관찰값을 말한다.\n",
    "- ex) 1, 2, 4, 5, 7, 9, 10 있을때, 중앙값은 5이다.\n",
    "\n",
    "## 산술평균 ( arithmetic mean )\n",
    ": 우리가 흔히 사용하는 간단한 평균, 그냥 \"평균\" 이라고도 한다.\n",
    "\n",
    "$$\\bar{X} = \\frac{X_1 + X_2 + \\cdots + X_n}{n} = \\frac{\\sum X_i}{n} $$\n",
    "\n",
    "## 가중평균 ( weighted arithmetic mean )\n",
    ": 같은 모집단에서 표본을 서로 다른 개수로 뽑은 경우(가중치가 존재하는 경우) 평균값을 구할때 사용\n",
    "\n",
    "$$\\bar{X} = \\frac{n_1 \\bar{X_1} + n_2 \\bar{X_2} + \\cdots + n_k \\bar{X_k}}{n_1 + n_2 + \\cdots + n_k} = \\frac{\\sum n_i \\bar{X_i}}{n_i} $$"
   ]
  },
  {
   "cell_type": "markdown",
   "metadata": {},
   "source": [
    "### 평균과 최빈값, 중앙값들의 위치 비교\n",
    "- 대칭분포\n",
    " - 평균 = 중앙값 = 최빈값 모두 같다\n",
    "- 왼쪽꼬리분포 ( skewed to the left )\n",
    " - 평균은 중앙값보다 작다\n",
    "- 오른쪽꼬리분포 ( skewed to the right )\n",
    " - 평균은 중앙값보다 크다"
   ]
  },
  {
   "cell_type": "markdown",
   "metadata": {},
   "source": [
    "![](http://webbuild1.knu.ac.kr/~bskim/image/skew2.jpg)"
   ]
  },
  {
   "cell_type": "markdown",
   "metadata": {},
   "source": [
    "## 분산 ( variance )\n",
    ": 자료가 평균으로부터 얼마나 떨어져 분포하는지를 가늠하는 숫자 <br />\n",
    ": 분산이란 각각의 관찰값에 대한 평균과의 편차를 제곱하여 그 평균을 구한 것\n",
    "\n",
    "- 모집단의 분산 ( ${ \\sigma  }^{ 2 }$ )\n",
    "- 표본의 분산 ( ${S}^2$)\n",
    "  - $n$ 대신 $(n-1)$을 나누는 이유는, $(n-1)$을 나누어줌으로써 모집단의 $\\sigma$를 추정하는데 더 적절한 표준편차를 구하기 위함이다\n",
    "  \n",
    "<img src=\"http://www.safetygo.com/xe/files/attach/images/384/602/013/02df6495492411476f5dd9608a8718f6.gif\",width=450,height=250>"
   ]
  },
  {
   "cell_type": "markdown",
   "metadata": {},
   "source": [
    "## 표준편차 ( standard deviation )\n",
    ": 분산의 양의 제곱근 \n",
    "\n",
    "- 모집단의 표준편차 ( $\\sigma = \\sqrt{\\sigma ^2}$ )\n",
    "- 표본의 표준편차 ( $S = \\sqrt{S ^2}$ )"
   ]
  },
  {
   "cell_type": "markdown",
   "metadata": {},
   "source": [
    "## 비대칭도, 왜도 ( skewness )\n",
    ": 관찰값들이 어느 쪽으로 치우쳐 있는가를 알아보는 척도 <br />\n",
    ": 분포의 모양이 대칭분포에서 얼마나 벗어났는가\n",
    "- 정의\n",
    "![](https://wikimedia.org/api/rest_v1/media/math/render/svg/f6fe58fd24997f29812ff4e5663772e03948846a)\n",
    "<br />\n",
    "- 피어슨의 비대칭도 ( Pearson's skewness coefficients ) <br />\n",
    ": 비대칭도 측정을 위해 제안한 간단한 계산법\n",
    "<img src=\"http://www.six-sigma-material.com/images/CoefficientofSkewness.GIF\", width=200, height=200>\n",
    "![](https://upload.wikimedia.org/wikipedia/commons/thumb/f/f8/Negative_and_positive_skew_diagrams_%28English%29.svg/700px-Negative_and_positive_skew_diagrams_%28English%29.svg.png)"
   ]
  },
  {
   "cell_type": "markdown",
   "metadata": {},
   "source": [
    "### Q. 연습문제\n",
    "- 다음의 학생들 25명의 시험점수에서 평균과 표준편차를 구하라."
   ]
  },
  {
   "cell_type": "code",
   "execution_count": 1,
   "metadata": {
    "collapsed": false
   },
   "outputs": [
    {
     "data": {
      "text/plain": [
       "array([[84, 87, 93, 40, 43],\n",
       "       [99, 43, 79, 49, 59],\n",
       "       [61, 90, 76, 63, 46],\n",
       "       [64, 64, 52, 98, 41],\n",
       "       [78, 79, 63, 86, 64]])"
      ]
     },
     "execution_count": 1,
     "metadata": {},
     "output_type": "execute_result"
    }
   ],
   "source": [
    "import numpy as np\n",
    "\n",
    "np.random.seed(0)\n",
    "data = np.random.randint(40, 100, size=(5, 5))\n",
    "data"
   ]
  },
  {
   "cell_type": "markdown",
   "metadata": {},
   "source": [
    "- 평균"
   ]
  },
  {
   "cell_type": "code",
   "execution_count": 2,
   "metadata": {
    "collapsed": false
   },
   "outputs": [
    {
     "data": {
      "text/plain": [
       "68.040000000000006"
      ]
     },
     "execution_count": 2,
     "metadata": {},
     "output_type": "execute_result"
    }
   ],
   "source": [
    "data.mean()"
   ]
  },
  {
   "cell_type": "markdown",
   "metadata": {},
   "source": [
    "- 표준편차"
   ]
  },
  {
   "cell_type": "code",
   "execution_count": 3,
   "metadata": {
    "collapsed": false
   },
   "outputs": [
    {
     "data": {
      "text/plain": [
       "18.340076335718997"
      ]
     },
     "execution_count": 3,
     "metadata": {},
     "output_type": "execute_result"
    }
   ],
   "source": [
    "data.std()"
   ]
  },
  {
   "cell_type": "code",
   "execution_count": 4,
   "metadata": {
    "collapsed": false
   },
   "outputs": [
    {
     "data": {
      "text/plain": [
       "array([[ 15.96,  18.96,  24.96, -28.04, -25.04],\n",
       "       [ 30.96, -25.04,  10.96, -19.04,  -9.04],\n",
       "       [ -7.04,  21.96,   7.96,  -5.04, -22.04],\n",
       "       [ -4.04,  -4.04, -16.04,  29.96, -27.04],\n",
       "       [  9.96,  10.96,  -5.04,  17.96,  -4.04]])"
      ]
     },
     "execution_count": 4,
     "metadata": {},
     "output_type": "execute_result"
    }
   ],
   "source": [
    "# X - mean\n",
    "dev_arr = data - data.mean()\n",
    "dev_arr"
   ]
  },
  {
   "cell_type": "code",
   "execution_count": 5,
   "metadata": {
    "collapsed": false
   },
   "outputs": [
    {
     "data": {
      "text/plain": [
       "array([[ 254.7216,  359.4816,  623.0016,  786.2416,  627.0016],\n",
       "       [ 958.5216,  627.0016,  120.1216,  362.5216,   81.7216],\n",
       "       [  49.5616,  482.2416,   63.3616,   25.4016,  485.7616],\n",
       "       [  16.3216,   16.3216,  257.2816,  897.6016,  731.1616],\n",
       "       [  99.2016,  120.1216,   25.4016,  322.5616,   16.3216]])"
      ]
     },
     "execution_count": 5,
     "metadata": {},
     "output_type": "execute_result"
    }
   ],
   "source": [
    "# ( X - mean )^2\n",
    "dev_arr ** 2"
   ]
  },
  {
   "cell_type": "code",
   "execution_count": 6,
   "metadata": {
    "collapsed": false
   },
   "outputs": [
    {
     "data": {
      "text/plain": [
       "336.35839999999996"
      ]
     },
     "execution_count": 6,
     "metadata": {},
     "output_type": "execute_result"
    }
   ],
   "source": [
    "# sum( ( X - mean )^2 ) / N\n",
    "a = (dev_arr ** 2 ).sum() / 25\n",
    "a"
   ]
  },
  {
   "cell_type": "code",
   "execution_count": 7,
   "metadata": {
    "collapsed": false
   },
   "outputs": [
    {
     "data": {
      "text/plain": [
       "18.340076335718997"
      ]
     },
     "execution_count": 7,
     "metadata": {},
     "output_type": "execute_result"
    }
   ],
   "source": [
    "np.sqrt(a)"
   ]
  }
 ],
 "metadata": {
  "kernelspec": {
   "display_name": "Python 3",
   "language": "python",
   "name": "python3"
  },
  "language_info": {
   "codemirror_mode": {
    "name": "ipython",
    "version": 3
   },
   "file_extension": ".py",
   "mimetype": "text/x-python",
   "name": "python",
   "nbconvert_exporter": "python",
   "pygments_lexer": "ipython3",
   "version": "3.5.1"
  }
 },
 "nbformat": 4,
 "nbformat_minor": 0
}
